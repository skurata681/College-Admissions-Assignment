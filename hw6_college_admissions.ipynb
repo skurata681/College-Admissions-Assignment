{
 "cells": [
  {
   "cell_type": "code",
   "execution_count": 1,
   "id": "rolled-product",
   "metadata": {},
   "outputs": [],
   "source": [
    "# Import helpful libraries\n",
    "import numpy as np"
   ]
  },
  {
   "cell_type": "code",
   "execution_count": null,
   "id": "variable-owner",
   "metadata": {},
   "outputs": [],
   "source": [
    "# SKILL REQUIREMENTS:\n",
    "\n",
    "# requires file i/o (in python)\n",
    "# for loops\n",
    "# lists/arrays and indexing\n",
    "# python functions (str.replace(); open(); close(); str.split(); list.pop();)\n",
    "# function implementation and calling\n",
    "# commenting\n",
    "# testing\n",
    "# python\n",
    "# jupyter notebook\n",
    "# type casting\n",
    "# string concatenation\n",
    "# if/else statement\n",
    "# print"
   ]
  },
  {
   "cell_type": "code",
   "execution_count": 11,
   "id": "major-examination",
   "metadata": {},
   "outputs": [],
   "source": [
    "## DO NOT MODIFY ##\n",
    "\n",
    "# Requires: list (representing one student's data)\n",
    "# Modifies: nothing\n",
    "# Effects: returns True if all elements in list are float type\n",
    "\n",
    "def check_row_type(student_data):\n",
    "    strCount = 0\n",
    "    for i in range(len(student_data)):\n",
    "        if isinstance(student_data[i], float):\n",
    "            strCount += 1\n",
    "        else:\n",
    "            return False\n",
    "    if strCount == len(student_data):\n",
    "        return True"
   ]
  },
  {
   "cell_type": "code",
   "execution_count": 4,
   "id": "raising-anger",
   "metadata": {},
   "outputs": [],
   "source": [
    "## IMPLEMENT FUNCTIONS BELOW ##"
   ]
  },
  {
   "cell_type": "code",
   "execution_count": 5,
   "id": "metropolitan-supplement",
   "metadata": {},
   "outputs": [],
   "source": [
    "# Requires: list (representing one student's data)\n",
    "# Modifies: nothing\n",
    "# Effects: converts list element types to float \n",
    "\n",
    "def convert_row_type(student_data):\n",
    "    \n",
    "    # TODO: implement\n",
    "    \n",
    "    return"
   ]
  },
  {
   "cell_type": "code",
   "execution_count": 6,
   "id": "loaded-printing",
   "metadata": {},
   "outputs": [],
   "source": [
    "# Requires: list (representing one student's data)\n",
    "# Modifies: nothing\n",
    "# Effects: returns student's overall score to 2 decimal places \n",
    "# based on weighted average:\n",
    "    # 40% GPA\n",
    "    # 30% SAT\n",
    "    # 20% Curriculum strength\n",
    "    # 10% Demonstrated interest\n",
    "\n",
    "def calculate_score(student_data):\n",
    "    \n",
    "    # TODO: implement\n",
    "    \n",
    "    return"
   ]
  },
  {
   "cell_type": "code",
   "execution_count": 7,
   "id": "aboriginal-functionality",
   "metadata": {},
   "outputs": [],
   "source": [
    "# Requires: list (representing one student's data)\n",
    "# Modifies: nothing\n",
    "# Effects: returns True if:\n",
    "    # (1) demonstrated interested score = 0\n",
    "    # (2) normalized GPA is more than 2 points higher than normalized SAT\n",
    "\n",
    "def is_outlier(student_data):\n",
    "    \n",
    "    # TODO: implement\n",
    "    \n",
    "    return"
   ]
  },
  {
   "cell_type": "code",
   "execution_count": 8,
   "id": "dense-directive",
   "metadata": {},
   "outputs": [],
   "source": [
    "# Requires: list (representing one student's data)\n",
    "# Modifies: nothing\n",
    "# Effects: returns True if:\n",
    "    # (1) student score of 6 or higher\n",
    "    # (2) student is an outlier\n",
    "\n",
    "def improved_calculate_score(student_data):\n",
    "    \n",
    "    # TODO: implement\n",
    "    \n",
    "    return"
   ]
  },
  {
   "cell_type": "code",
   "execution_count": null,
   "id": "fitting-winner",
   "metadata": {},
   "outputs": [],
   "source": []
  },
  {
   "cell_type": "code",
   "execution_count": 9,
   "id": "human-boulder",
   "metadata": {},
   "outputs": [],
   "source": [
    "def main():\n",
    "    \n",
    "    # TODO: implement\n",
    "\n",
    "    return"
   ]
  },
  {
   "cell_type": "code",
   "execution_count": 10,
   "id": "original-thought",
   "metadata": {},
   "outputs": [],
   "source": [
    "# test\n",
    "main()"
   ]
  },
  {
   "cell_type": "code",
   "execution_count": null,
   "id": "historic-shelter",
   "metadata": {},
   "outputs": [],
   "source": []
  }
 ],
 "metadata": {
  "kernelspec": {
   "display_name": "Python 3",
   "language": "python",
   "name": "python3"
  },
  "language_info": {
   "codemirror_mode": {
    "name": "ipython",
    "version": 3
   },
   "file_extension": ".py",
   "mimetype": "text/x-python",
   "name": "python",
   "nbconvert_exporter": "python",
   "pygments_lexer": "ipython3",
   "version": "3.9.2"
  }
 },
 "nbformat": 4,
 "nbformat_minor": 5
}
